{
 "cells": [
  {
   "cell_type": "code",
   "execution_count": 1,
   "id": "59d13118",
   "metadata": {},
   "outputs": [
    {
     "data": {
      "text/html": [
       "<div>\n",
       "<style scoped>\n",
       "    .dataframe tbody tr th:only-of-type {\n",
       "        vertical-align: middle;\n",
       "    }\n",
       "\n",
       "    .dataframe tbody tr th {\n",
       "        vertical-align: top;\n",
       "    }\n",
       "\n",
       "    .dataframe thead th {\n",
       "        text-align: right;\n",
       "    }\n",
       "</style>\n",
       "<table border=\"1\" class=\"dataframe\">\n",
       "  <thead>\n",
       "    <tr style=\"text-align: right;\">\n",
       "      <th></th>\n",
       "      <th>customerID</th>\n",
       "      <th>gender</th>\n",
       "      <th>SeniorCitizen</th>\n",
       "      <th>Partner</th>\n",
       "      <th>Dependents</th>\n",
       "      <th>tenure</th>\n",
       "      <th>PhoneService</th>\n",
       "      <th>MultipleLines</th>\n",
       "      <th>InternetService</th>\n",
       "      <th>OnlineSecurity</th>\n",
       "      <th>...</th>\n",
       "      <th>DeviceProtection</th>\n",
       "      <th>TechSupport</th>\n",
       "      <th>StreamingTV</th>\n",
       "      <th>StreamingMovies</th>\n",
       "      <th>Contract</th>\n",
       "      <th>PaperlessBilling</th>\n",
       "      <th>PaymentMethod</th>\n",
       "      <th>MonthlyCharges</th>\n",
       "      <th>TotalCharges</th>\n",
       "      <th>Churn</th>\n",
       "    </tr>\n",
       "  </thead>\n",
       "  <tbody>\n",
       "    <tr>\n",
       "      <th>0</th>\n",
       "      <td>7590-VHVEG</td>\n",
       "      <td>Female</td>\n",
       "      <td>0</td>\n",
       "      <td>Yes</td>\n",
       "      <td>No</td>\n",
       "      <td>1</td>\n",
       "      <td>No</td>\n",
       "      <td>No phone service</td>\n",
       "      <td>DSL</td>\n",
       "      <td>No</td>\n",
       "      <td>...</td>\n",
       "      <td>No</td>\n",
       "      <td>No</td>\n",
       "      <td>No</td>\n",
       "      <td>No</td>\n",
       "      <td>Month-to-month</td>\n",
       "      <td>Yes</td>\n",
       "      <td>Electronic check</td>\n",
       "      <td>29.85</td>\n",
       "      <td>29.85</td>\n",
       "      <td>No</td>\n",
       "    </tr>\n",
       "    <tr>\n",
       "      <th>1</th>\n",
       "      <td>5575-GNVDE</td>\n",
       "      <td>Male</td>\n",
       "      <td>0</td>\n",
       "      <td>No</td>\n",
       "      <td>No</td>\n",
       "      <td>34</td>\n",
       "      <td>Yes</td>\n",
       "      <td>No</td>\n",
       "      <td>DSL</td>\n",
       "      <td>Yes</td>\n",
       "      <td>...</td>\n",
       "      <td>Yes</td>\n",
       "      <td>No</td>\n",
       "      <td>No</td>\n",
       "      <td>No</td>\n",
       "      <td>One year</td>\n",
       "      <td>No</td>\n",
       "      <td>Mailed check</td>\n",
       "      <td>56.95</td>\n",
       "      <td>1889.5</td>\n",
       "      <td>No</td>\n",
       "    </tr>\n",
       "    <tr>\n",
       "      <th>2</th>\n",
       "      <td>3668-QPYBK</td>\n",
       "      <td>Male</td>\n",
       "      <td>0</td>\n",
       "      <td>No</td>\n",
       "      <td>No</td>\n",
       "      <td>2</td>\n",
       "      <td>Yes</td>\n",
       "      <td>No</td>\n",
       "      <td>DSL</td>\n",
       "      <td>Yes</td>\n",
       "      <td>...</td>\n",
       "      <td>No</td>\n",
       "      <td>No</td>\n",
       "      <td>No</td>\n",
       "      <td>No</td>\n",
       "      <td>Month-to-month</td>\n",
       "      <td>Yes</td>\n",
       "      <td>Mailed check</td>\n",
       "      <td>53.85</td>\n",
       "      <td>108.15</td>\n",
       "      <td>Yes</td>\n",
       "    </tr>\n",
       "    <tr>\n",
       "      <th>3</th>\n",
       "      <td>7795-CFOCW</td>\n",
       "      <td>Male</td>\n",
       "      <td>0</td>\n",
       "      <td>No</td>\n",
       "      <td>No</td>\n",
       "      <td>45</td>\n",
       "      <td>No</td>\n",
       "      <td>No phone service</td>\n",
       "      <td>DSL</td>\n",
       "      <td>Yes</td>\n",
       "      <td>...</td>\n",
       "      <td>Yes</td>\n",
       "      <td>Yes</td>\n",
       "      <td>No</td>\n",
       "      <td>No</td>\n",
       "      <td>One year</td>\n",
       "      <td>No</td>\n",
       "      <td>Bank transfer (automatic)</td>\n",
       "      <td>42.30</td>\n",
       "      <td>1840.75</td>\n",
       "      <td>No</td>\n",
       "    </tr>\n",
       "    <tr>\n",
       "      <th>4</th>\n",
       "      <td>9237-HQITU</td>\n",
       "      <td>Female</td>\n",
       "      <td>0</td>\n",
       "      <td>No</td>\n",
       "      <td>No</td>\n",
       "      <td>2</td>\n",
       "      <td>Yes</td>\n",
       "      <td>No</td>\n",
       "      <td>Fiber optic</td>\n",
       "      <td>No</td>\n",
       "      <td>...</td>\n",
       "      <td>No</td>\n",
       "      <td>No</td>\n",
       "      <td>No</td>\n",
       "      <td>No</td>\n",
       "      <td>Month-to-month</td>\n",
       "      <td>Yes</td>\n",
       "      <td>Electronic check</td>\n",
       "      <td>70.70</td>\n",
       "      <td>151.65</td>\n",
       "      <td>Yes</td>\n",
       "    </tr>\n",
       "  </tbody>\n",
       "</table>\n",
       "<p>5 rows × 21 columns</p>\n",
       "</div>"
      ],
      "text/plain": [
       "   customerID  gender  SeniorCitizen Partner Dependents  tenure PhoneService  \\\n",
       "0  7590-VHVEG  Female              0     Yes         No       1           No   \n",
       "1  5575-GNVDE    Male              0      No         No      34          Yes   \n",
       "2  3668-QPYBK    Male              0      No         No       2          Yes   \n",
       "3  7795-CFOCW    Male              0      No         No      45           No   \n",
       "4  9237-HQITU  Female              0      No         No       2          Yes   \n",
       "\n",
       "      MultipleLines InternetService OnlineSecurity  ... DeviceProtection  \\\n",
       "0  No phone service             DSL             No  ...               No   \n",
       "1                No             DSL            Yes  ...              Yes   \n",
       "2                No             DSL            Yes  ...               No   \n",
       "3  No phone service             DSL            Yes  ...              Yes   \n",
       "4                No     Fiber optic             No  ...               No   \n",
       "\n",
       "  TechSupport StreamingTV StreamingMovies        Contract PaperlessBilling  \\\n",
       "0          No          No              No  Month-to-month              Yes   \n",
       "1          No          No              No        One year               No   \n",
       "2          No          No              No  Month-to-month              Yes   \n",
       "3         Yes          No              No        One year               No   \n",
       "4          No          No              No  Month-to-month              Yes   \n",
       "\n",
       "               PaymentMethod MonthlyCharges  TotalCharges Churn  \n",
       "0           Electronic check          29.85         29.85    No  \n",
       "1               Mailed check          56.95        1889.5    No  \n",
       "2               Mailed check          53.85        108.15   Yes  \n",
       "3  Bank transfer (automatic)          42.30       1840.75    No  \n",
       "4           Electronic check          70.70        151.65   Yes  \n",
       "\n",
       "[5 rows x 21 columns]"
      ]
     },
     "execution_count": 1,
     "metadata": {},
     "output_type": "execute_result"
    }
   ],
   "source": [
    "import pandas as pd\n",
    "\n",
    "df = pd.read_csv('data/project_01/raw/WA_Fn-UseC_-Telco-Customer-Churn.csv')\n",
    "\n",
    "df.head()"
   ]
  },
  {
   "cell_type": "code",
   "execution_count": 2,
   "id": "fa64921a",
   "metadata": {},
   "outputs": [
    {
     "name": "stdout",
     "output_type": "stream",
     "text": [
      "(5634, 21)\n",
      "(1409, 21)\n"
     ]
    }
   ],
   "source": [
    "from sklearn.model_selection import train_test_split\n",
    "\n",
    "train_df, test_df_raw = train_test_split(df, test_size=0.2, random_state=42)\n",
    "\n",
    "print(train_df.shape)\n",
    "print(test_df_raw.shape)"
   ]
  },
  {
   "cell_type": "code",
   "execution_count": 3,
   "id": "88699d1f",
   "metadata": {},
   "outputs": [
    {
     "name": "stdout",
     "output_type": "stream",
     "text": [
      "(709, 21)\n",
      "(700, 21)\n"
     ]
    }
   ],
   "source": [
    "test_df_bench, test_df_tosplit = train_test_split(test_df_raw, test_size=0.4965, random_state=42)\n",
    "\n",
    "print(test_df_bench.shape)\n",
    "print(test_df_tosplit.shape)"
   ]
  },
  {
   "cell_type": "code",
   "execution_count": 4,
   "id": "7388404f",
   "metadata": {},
   "outputs": [],
   "source": [
    "test_df_tosplit.drop(columns=['Churn'], inplace=True)"
   ]
  },
  {
   "cell_type": "code",
   "execution_count": 5,
   "id": "e3d4a3c6",
   "metadata": {},
   "outputs": [],
   "source": [
    "for i in range(7):\n",
    "    globals()[f\"df_week_{i+1}\"] = test_df_tosplit.iloc[i*100:(i+1)*100]\n",
    "    "
   ]
  },
  {
   "cell_type": "code",
   "execution_count": 6,
   "id": "fd35866c",
   "metadata": {},
   "outputs": [
    {
     "name": "stdout",
     "output_type": "stream",
     "text": [
      "(100, 20)\n",
      "(100, 20)\n",
      "(100, 20)\n",
      "(100, 20)\n",
      "(100, 20)\n",
      "(100, 20)\n",
      "(100, 20)\n"
     ]
    }
   ],
   "source": [
    "print(df_week_1.shape)\n",
    "print(df_week_2.shape)\n",
    "print(df_week_3.shape)\n",
    "print(df_week_4.shape)\n",
    "print(df_week_5.shape)\n",
    "print(df_week_6.shape)\n",
    "print(df_week_7.shape)"
   ]
  },
  {
   "cell_type": "code",
   "execution_count": 7,
   "id": "d695a6ec",
   "metadata": {},
   "outputs": [],
   "source": [
    "from src.minio.minio import connect_to_minio, list_buckets, create_bucket, upload_dataframe_as_parquet, list_objects"
   ]
  },
  {
   "cell_type": "code",
   "execution_count": 8,
   "id": "75ec51bf",
   "metadata": {},
   "outputs": [
    {
     "name": "stdout",
     "output_type": "stream",
     "text": [
      "✅ Conectado ao MinIO em localhost:9000\n",
      "\n",
      "📦 Buckets encontrados:\n",
      "--------------------------------------------------\n",
      "Nome: project-1\n",
      "Data de criação: 2025-07-09 18:24:15.794000+00:00\n",
      "--------------------------------------------------\n"
     ]
    }
   ],
   "source": [
    "minio_client = connect_to_minio()\n",
    "\n",
    "list_buckets(minio_client)"
   ]
  },
  {
   "cell_type": "code",
   "execution_count": 10,
   "id": "9c9a1a6c",
   "metadata": {},
   "outputs": [
    {
     "name": "stdout",
     "output_type": "stream",
     "text": [
      "✅ Conectado ao MinIO em localhost:9000\n",
      "💾 Convertendo DataFrame para parquet...\n",
      "📊 Arquivo parquet criado: 166164 bytes\n",
      "✅ DataFrame enviado como 'train_df.parquet' no bucket 'project-1'!\n",
      "📋 Shape do DataFrame: (5634, 21)\n",
      "📄 Colunas: ['customerID', 'gender', 'SeniorCitizen', 'Partner', 'Dependents', 'tenure', 'PhoneService', 'MultipleLines', 'InternetService', 'OnlineSecurity', 'OnlineBackup', 'DeviceProtection', 'TechSupport', 'StreamingTV', 'StreamingMovies', 'Contract', 'PaperlessBilling', 'PaymentMethod', 'MonthlyCharges', 'TotalCharges', 'Churn']\n",
      "💾 Tamanho do arquivo: 166164 bytes\n",
      "💾 Convertendo DataFrame para parquet...\n",
      "📊 Arquivo parquet criado: 33393 bytes\n",
      "✅ DataFrame enviado como 'test_df_bench.parquet' no bucket 'project-1'!\n",
      "📋 Shape do DataFrame: (709, 21)\n",
      "📄 Colunas: ['customerID', 'gender', 'SeniorCitizen', 'Partner', 'Dependents', 'tenure', 'PhoneService', 'MultipleLines', 'InternetService', 'OnlineSecurity', 'OnlineBackup', 'DeviceProtection', 'TechSupport', 'StreamingTV', 'StreamingMovies', 'Contract', 'PaperlessBilling', 'PaymentMethod', 'MonthlyCharges', 'TotalCharges', 'Churn']\n",
      "💾 Tamanho do arquivo: 33393 bytes\n",
      "💾 Convertendo DataFrame para parquet...\n",
      "📊 Arquivo parquet criado: 15268 bytes\n",
      "✅ DataFrame enviado como 'df_week_1.parquet' no bucket 'project-1'!\n",
      "📋 Shape do DataFrame: (100, 20)\n",
      "📄 Colunas: ['customerID', 'gender', 'SeniorCitizen', 'Partner', 'Dependents', 'tenure', 'PhoneService', 'MultipleLines', 'InternetService', 'OnlineSecurity', 'OnlineBackup', 'DeviceProtection', 'TechSupport', 'StreamingTV', 'StreamingMovies', 'Contract', 'PaperlessBilling', 'PaymentMethod', 'MonthlyCharges', 'TotalCharges']\n",
      "💾 Tamanho do arquivo: 15268 bytes\n",
      "💾 Convertendo DataFrame para parquet...\n",
      "📊 Arquivo parquet criado: 15323 bytes\n",
      "✅ DataFrame enviado como 'df_week_2.parquet' no bucket 'project-1'!\n",
      "📋 Shape do DataFrame: (100, 20)\n",
      "📄 Colunas: ['customerID', 'gender', 'SeniorCitizen', 'Partner', 'Dependents', 'tenure', 'PhoneService', 'MultipleLines', 'InternetService', 'OnlineSecurity', 'OnlineBackup', 'DeviceProtection', 'TechSupport', 'StreamingTV', 'StreamingMovies', 'Contract', 'PaperlessBilling', 'PaymentMethod', 'MonthlyCharges', 'TotalCharges']\n",
      "💾 Tamanho do arquivo: 15323 bytes\n",
      "💾 Convertendo DataFrame para parquet...\n",
      "📊 Arquivo parquet criado: 15273 bytes\n",
      "✅ DataFrame enviado como 'df_week_3.parquet' no bucket 'project-1'!\n",
      "📋 Shape do DataFrame: (100, 20)\n",
      "📄 Colunas: ['customerID', 'gender', 'SeniorCitizen', 'Partner', 'Dependents', 'tenure', 'PhoneService', 'MultipleLines', 'InternetService', 'OnlineSecurity', 'OnlineBackup', 'DeviceProtection', 'TechSupport', 'StreamingTV', 'StreamingMovies', 'Contract', 'PaperlessBilling', 'PaymentMethod', 'MonthlyCharges', 'TotalCharges']\n",
      "💾 Tamanho do arquivo: 15273 bytes\n",
      "💾 Convertendo DataFrame para parquet...\n",
      "📊 Arquivo parquet criado: 15242 bytes\n",
      "✅ DataFrame enviado como 'df_week_4.parquet' no bucket 'project-1'!\n",
      "📋 Shape do DataFrame: (100, 20)\n",
      "📄 Colunas: ['customerID', 'gender', 'SeniorCitizen', 'Partner', 'Dependents', 'tenure', 'PhoneService', 'MultipleLines', 'InternetService', 'OnlineSecurity', 'OnlineBackup', 'DeviceProtection', 'TechSupport', 'StreamingTV', 'StreamingMovies', 'Contract', 'PaperlessBilling', 'PaymentMethod', 'MonthlyCharges', 'TotalCharges']\n",
      "💾 Tamanho do arquivo: 15242 bytes\n",
      "💾 Convertendo DataFrame para parquet...\n",
      "📊 Arquivo parquet criado: 15267 bytes\n",
      "✅ DataFrame enviado como 'df_week_5.parquet' no bucket 'project-1'!\n",
      "📋 Shape do DataFrame: (100, 20)\n",
      "📄 Colunas: ['customerID', 'gender', 'SeniorCitizen', 'Partner', 'Dependents', 'tenure', 'PhoneService', 'MultipleLines', 'InternetService', 'OnlineSecurity', 'OnlineBackup', 'DeviceProtection', 'TechSupport', 'StreamingTV', 'StreamingMovies', 'Contract', 'PaperlessBilling', 'PaymentMethod', 'MonthlyCharges', 'TotalCharges']\n",
      "💾 Tamanho do arquivo: 15267 bytes\n",
      "💾 Convertendo DataFrame para parquet...\n",
      "📊 Arquivo parquet criado: 15280 bytes\n",
      "✅ DataFrame enviado como 'df_week_6.parquet' no bucket 'project-1'!\n",
      "📋 Shape do DataFrame: (100, 20)\n",
      "📄 Colunas: ['customerID', 'gender', 'SeniorCitizen', 'Partner', 'Dependents', 'tenure', 'PhoneService', 'MultipleLines', 'InternetService', 'OnlineSecurity', 'OnlineBackup', 'DeviceProtection', 'TechSupport', 'StreamingTV', 'StreamingMovies', 'Contract', 'PaperlessBilling', 'PaymentMethod', 'MonthlyCharges', 'TotalCharges']\n",
      "💾 Tamanho do arquivo: 15280 bytes\n",
      "💾 Convertendo DataFrame para parquet...\n",
      "📊 Arquivo parquet criado: 15264 bytes\n",
      "✅ DataFrame enviado como 'df_week_7.parquet' no bucket 'project-1'!\n",
      "📋 Shape do DataFrame: (100, 20)\n",
      "📄 Colunas: ['customerID', 'gender', 'SeniorCitizen', 'Partner', 'Dependents', 'tenure', 'PhoneService', 'MultipleLines', 'InternetService', 'OnlineSecurity', 'OnlineBackup', 'DeviceProtection', 'TechSupport', 'StreamingTV', 'StreamingMovies', 'Contract', 'PaperlessBilling', 'PaymentMethod', 'MonthlyCharges', 'TotalCharges']\n",
      "💾 Tamanho do arquivo: 15264 bytes\n"
     ]
    },
    {
     "data": {
      "text/plain": [
       "True"
      ]
     },
     "execution_count": 10,
     "metadata": {},
     "output_type": "execute_result"
    }
   ],
   "source": [
    "upload_dataframe_as_parquet(minio_client, 'project-1', 'train_df.parquet', train_df)\n",
    "upload_dataframe_as_parquet(minio_client, 'project-1', 'test_df_bench.parquet', test_df_bench)\n",
    "upload_dataframe_as_parquet(minio_client, 'project-1', 'df_week_1.parquet', df_week_1)\n",
    "upload_dataframe_as_parquet(minio_client, 'project-1', 'df_week_2.parquet', df_week_2)\n",
    "upload_dataframe_as_parquet(minio_client, 'project-1', 'df_week_3.parquet', df_week_3)\n",
    "upload_dataframe_as_parquet(minio_client, 'project-1', 'df_week_4.parquet', df_week_4)\n",
    "upload_dataframe_as_parquet(minio_client, 'project-1', 'df_week_5.parquet', df_week_5)\n",
    "upload_dataframe_as_parquet(minio_client, 'project-1', 'df_week_6.parquet', df_week_6)\n",
    "upload_dataframe_as_parquet(minio_client, 'project-1', 'df_week_7.parquet', df_week_7)"
   ]
  },
  {
   "cell_type": "code",
   "execution_count": 12,
   "id": "a403af42",
   "metadata": {},
   "outputs": [
    {
     "name": "stdout",
     "output_type": "stream",
     "text": [
      "\n",
      "📁 Objetos no bucket 'project-1':\n",
      "----------------------------------------------------------------------\n",
      "Nome: df_week_1.parquet\n",
      "Tamanho: 15268 bytes\n",
      "Data de modificação: 2025-07-09 18:44:22.092000+00:00\n",
      "----------------------------------------------------------------------\n",
      "Nome: df_week_2.parquet\n",
      "Tamanho: 15323 bytes\n",
      "Data de modificação: 2025-07-09 18:44:22.099000+00:00\n",
      "----------------------------------------------------------------------\n",
      "Nome: df_week_3.parquet\n",
      "Tamanho: 15273 bytes\n",
      "Data de modificação: 2025-07-09 18:44:22.106000+00:00\n",
      "----------------------------------------------------------------------\n",
      "Nome: df_week_4.parquet\n",
      "Tamanho: 15242 bytes\n",
      "Data de modificação: 2025-07-09 18:44:22.113000+00:00\n",
      "----------------------------------------------------------------------\n",
      "Nome: df_week_5.parquet\n",
      "Tamanho: 15267 bytes\n",
      "Data de modificação: 2025-07-09 18:44:22.119000+00:00\n",
      "----------------------------------------------------------------------\n",
      "Nome: df_week_6.parquet\n",
      "Tamanho: 15280 bytes\n",
      "Data de modificação: 2025-07-09 18:44:22.124000+00:00\n",
      "----------------------------------------------------------------------\n",
      "Nome: df_week_7.parquet\n",
      "Tamanho: 15264 bytes\n",
      "Data de modificação: 2025-07-09 18:44:22.129000+00:00\n",
      "----------------------------------------------------------------------\n",
      "Nome: test_df_bench.parquet\n",
      "Tamanho: 33393 bytes\n",
      "Data de modificação: 2025-07-09 18:44:22.084000+00:00\n",
      "----------------------------------------------------------------------\n",
      "Nome: train_df.parquet\n",
      "Tamanho: 166164 bytes\n",
      "Data de modificação: 2025-07-09 18:44:22.074000+00:00\n",
      "----------------------------------------------------------------------\n"
     ]
    }
   ],
   "source": [
    "list_objects(minio_client, 'project-1')"
   ]
  },
  {
   "cell_type": "code",
   "execution_count": null,
   "id": "cfad9482",
   "metadata": {},
   "outputs": [],
   "source": []
  }
 ],
 "metadata": {
  "kernelspec": {
   "display_name": ".venv",
   "language": "python",
   "name": "python3"
  },
  "language_info": {
   "codemirror_mode": {
    "name": "ipython",
    "version": 3
   },
   "file_extension": ".py",
   "mimetype": "text/x-python",
   "name": "python",
   "nbconvert_exporter": "python",
   "pygments_lexer": "ipython3",
   "version": "3.10.15"
  }
 },
 "nbformat": 4,
 "nbformat_minor": 5
}
