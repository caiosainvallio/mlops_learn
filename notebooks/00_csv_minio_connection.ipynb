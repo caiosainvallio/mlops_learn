{
 "cells": [
  {
   "cell_type": "code",
   "execution_count": null,
   "id": "0208c5e8",
   "metadata": {},
   "outputs": [],
   "source": [
    "from src.minio.minio import connect_to_minio, list_buckets, create_bucket, delete_bucket, upload_file, list_objects, download_file"
   ]
  },
  {
   "cell_type": "code",
   "execution_count": 20,
   "id": "45596110",
   "metadata": {},
   "outputs": [
    {
     "name": "stdout",
     "output_type": "stream",
     "text": [
      "✅ Conectado ao MinIO em localhost:9000\n"
     ]
    }
   ],
   "source": [
    "client = connect_to_minio()"
   ]
  },
  {
   "cell_type": "code",
   "execution_count": 22,
   "id": "0df2deb3",
   "metadata": {},
   "outputs": [
    {
     "name": "stdout",
     "output_type": "stream",
     "text": [
      "\n",
      "📦 Buckets encontrados:\n",
      "--------------------------------------------------\n",
      "Nome: test-bucket2\n",
      "Data de criação: 2025-07-09 14:47:07.497000+00:00\n",
      "--------------------------------------------------\n"
     ]
    }
   ],
   "source": [
    "list_buckets(client)"
   ]
  },
  {
   "cell_type": "code",
   "execution_count": 23,
   "id": "54199033",
   "metadata": {},
   "outputs": [
    {
     "name": "stdout",
     "output_type": "stream",
     "text": [
      "✅ Bucket 'test-bucket' criado com sucesso!\n"
     ]
    }
   ],
   "source": [
    "create_bucket(client, bucket_name=\"test-bucket\")"
   ]
  },
  {
   "cell_type": "code",
   "execution_count": 24,
   "id": "b085e4af",
   "metadata": {},
   "outputs": [
    {
     "name": "stdout",
     "output_type": "stream",
     "text": [
      "\n",
      "📦 Buckets encontrados:\n",
      "--------------------------------------------------\n",
      "Nome: test-bucket\n",
      "Data de criação: 2025-07-09 14:56:28.078000+00:00\n",
      "--------------------------------------------------\n",
      "Nome: test-bucket2\n",
      "Data de criação: 2025-07-09 14:47:07.497000+00:00\n",
      "--------------------------------------------------\n"
     ]
    }
   ],
   "source": [
    "list_buckets(client)"
   ]
  },
  {
   "cell_type": "code",
   "execution_count": 25,
   "id": "02f25bda",
   "metadata": {},
   "outputs": [
    {
     "name": "stdout",
     "output_type": "stream",
     "text": [
      "✅ Bucket 'test-bucket' excluído com sucesso!\n"
     ]
    }
   ],
   "source": [
    "delete_bucket(client, \"test-bucket\")"
   ]
  },
  {
   "cell_type": "code",
   "execution_count": 26,
   "id": "85a649a4",
   "metadata": {},
   "outputs": [
    {
     "name": "stdout",
     "output_type": "stream",
     "text": [
      "\n",
      "📦 Buckets encontrados:\n",
      "--------------------------------------------------\n",
      "Nome: test-bucket2\n",
      "Data de criação: 2025-07-09 14:47:07.497000+00:00\n",
      "--------------------------------------------------\n"
     ]
    }
   ],
   "source": [
    "list_buckets(client)"
   ]
  },
  {
   "cell_type": "code",
   "execution_count": 13,
   "id": "e0ed534b",
   "metadata": {},
   "outputs": [
    {
     "name": "stdout",
     "output_type": "stream",
     "text": [
      "✅ Bucket 'test-bucket2' criado com sucesso!\n"
     ]
    }
   ],
   "source": [
    "create_bucket(client, bucket_name=\"test-bucket2\")"
   ]
  },
  {
   "cell_type": "code",
   "execution_count": 27,
   "id": "6195cd56",
   "metadata": {},
   "outputs": [
    {
     "name": "stdout",
     "output_type": "stream",
     "text": [
      "\n",
      "📦 Buckets encontrados:\n",
      "--------------------------------------------------\n",
      "Nome: test-bucket2\n",
      "Data de criação: 2025-07-09 14:47:07.497000+00:00\n",
      "--------------------------------------------------\n"
     ]
    }
   ],
   "source": [
    "list_buckets(client)"
   ]
  },
  {
   "cell_type": "code",
   "execution_count": 28,
   "id": "5e1077bc",
   "metadata": {},
   "outputs": [
    {
     "name": "stdout",
     "output_type": "stream",
     "text": [
      "✅ Arquivo 'notebooks/teste.txt' enviado como 'teste2.txt' no bucket 'test-bucket2'!\n",
      "📊 Tamanho: 29 bytes\n",
      "📅 Data de modificação: 2025-07-09 14:57:18+00:00\n"
     ]
    }
   ],
   "source": [
    "upload_file(client, 'test-bucket2', 'data/teste.txt', object_name='teste2.txt')"
   ]
  },
  {
   "cell_type": "code",
   "execution_count": 30,
   "id": "c24211b5",
   "metadata": {},
   "outputs": [
    {
     "name": "stdout",
     "output_type": "stream",
     "text": [
      "\n",
      "📁 Objetos no bucket 'test-bucket2':\n",
      "----------------------------------------------------------------------\n",
      "Nome: teste.txt\n",
      "Tamanho: 29 bytes\n",
      "Data de modificação: 2025-07-09 14:50:41.350000+00:00\n",
      "----------------------------------------------------------------------\n",
      "Nome: teste2.txt\n",
      "Tamanho: 29 bytes\n",
      "Data de modificação: 2025-07-09 14:57:18.985000+00:00\n",
      "----------------------------------------------------------------------\n"
     ]
    }
   ],
   "source": [
    "list_objects(client, 'test-bucket2')"
   ]
  },
  {
   "cell_type": "code",
   "execution_count": 32,
   "id": "0af534fc",
   "metadata": {},
   "outputs": [
    {
     "name": "stdout",
     "output_type": "stream",
     "text": [
      "✅ Arquivo 'teste.txt' baixado como 'teste3.txt'!\n",
      "📊 Tamanho: 29 bytes\n"
     ]
    }
   ],
   "source": [
    "download_file(client, 'test-bucket2', 'teste.txt', file_path='data/teste3.txt')"
   ]
  },
  {
   "cell_type": "code",
   "execution_count": 33,
   "id": "1f753bd7",
   "metadata": {},
   "outputs": [
    {
     "name": "stdout",
     "output_type": "stream",
     "text": [
      "⚠️  Bucket 'test-bucket2' não está vazio.\n",
      "🗑️  Objeto 'teste.txt' removido.\n",
      "🗑️  Objeto 'teste2.txt' removido.\n",
      "✅ Bucket 'test-bucket2' excluído com sucesso!\n"
     ]
    }
   ],
   "source": [
    "delete_bucket(client, \"test-bucket2\")"
   ]
  },
  {
   "cell_type": "markdown",
   "id": "4cdbc310",
   "metadata": {},
   "source": []
  }
 ],
 "metadata": {
  "kernelspec": {
   "display_name": ".venv",
   "language": "python",
   "name": "python3"
  },
  "language_info": {
   "codemirror_mode": {
    "name": "ipython",
    "version": 3
   },
   "file_extension": ".py",
   "mimetype": "text/x-python",
   "name": "python",
   "nbconvert_exporter": "python",
   "pygments_lexer": "ipython3",
   "version": "3.10.15"
  }
 },
 "nbformat": 4,
 "nbformat_minor": 5
}
